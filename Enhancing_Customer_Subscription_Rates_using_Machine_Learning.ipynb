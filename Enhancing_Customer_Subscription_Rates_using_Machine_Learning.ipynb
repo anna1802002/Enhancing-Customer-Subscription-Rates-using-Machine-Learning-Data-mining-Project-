{
  "cells": [
    {
      "cell_type": "markdown",
      "id": "f3bd24e9",
      "metadata": {
        "id": "f3bd24e9"
      },
      "source": [
        "# Data Preprocessing"
      ]
    },
    {
      "cell_type": "code",
      "execution_count": null,
      "id": "c20d06e9",
      "metadata": {
        "id": "c20d06e9"
      },
      "outputs": [],
      "source": [
        "import pandas as pd"
      ]
    },
    {
      "cell_type": "code",
      "execution_count": null,
      "id": "add042df",
      "metadata": {
        "id": "add042df"
      },
      "outputs": [],
      "source": [
        "data = pd.read_csv('/Users/dhikshamathan/Downloads/Shopping-Trends/shopping_trends_updated.csv')\n",
        "original_features = data.columns.tolist()"
      ]
    },
    {
      "cell_type": "code",
      "execution_count": null,
      "id": "0238ad4a",
      "metadata": {
        "id": "0238ad4a",
        "outputId": "dbb80782-0675-4711-8cba-cf4844ef224f"
      },
      "outputs": [
        {
          "data": {
            "text/html": [
              "<div>\n",
              "<style scoped>\n",
              "    .dataframe tbody tr th:only-of-type {\n",
              "        vertical-align: middle;\n",
              "    }\n",
              "\n",
              "    .dataframe tbody tr th {\n",
              "        vertical-align: top;\n",
              "    }\n",
              "\n",
              "    .dataframe thead th {\n",
              "        text-align: right;\n",
              "    }\n",
              "</style>\n",
              "<table border=\"1\" class=\"dataframe\">\n",
              "  <thead>\n",
              "    <tr style=\"text-align: right;\">\n",
              "      <th></th>\n",
              "      <th>Customer ID</th>\n",
              "      <th>Age</th>\n",
              "      <th>Gender</th>\n",
              "      <th>Item Purchased</th>\n",
              "      <th>Category</th>\n",
              "      <th>Purchase Amount (USD)</th>\n",
              "      <th>Location</th>\n",
              "      <th>Size</th>\n",
              "      <th>Color</th>\n",
              "      <th>Season</th>\n",
              "      <th>Review Rating</th>\n",
              "      <th>Subscription Status</th>\n",
              "      <th>Shipping Type</th>\n",
              "      <th>Discount Applied</th>\n",
              "      <th>Promo Code Used</th>\n",
              "      <th>Previous Purchases</th>\n",
              "      <th>Payment Method</th>\n",
              "      <th>Frequency of Purchases</th>\n",
              "    </tr>\n",
              "  </thead>\n",
              "  <tbody>\n",
              "    <tr>\n",
              "      <th>0</th>\n",
              "      <td>1</td>\n",
              "      <td>55</td>\n",
              "      <td>Male</td>\n",
              "      <td>Blouse</td>\n",
              "      <td>Clothing</td>\n",
              "      <td>53</td>\n",
              "      <td>Kentucky</td>\n",
              "      <td>L</td>\n",
              "      <td>Gray</td>\n",
              "      <td>Winter</td>\n",
              "      <td>3.1</td>\n",
              "      <td>Yes</td>\n",
              "      <td>Express</td>\n",
              "      <td>Yes</td>\n",
              "      <td>Yes</td>\n",
              "      <td>14</td>\n",
              "      <td>Venmo</td>\n",
              "      <td>Fortnightly</td>\n",
              "    </tr>\n",
              "    <tr>\n",
              "      <th>1</th>\n",
              "      <td>2</td>\n",
              "      <td>19</td>\n",
              "      <td>Male</td>\n",
              "      <td>Sweater</td>\n",
              "      <td>Clothing</td>\n",
              "      <td>64</td>\n",
              "      <td>Maine</td>\n",
              "      <td>L</td>\n",
              "      <td>Maroon</td>\n",
              "      <td>Winter</td>\n",
              "      <td>3.1</td>\n",
              "      <td>Yes</td>\n",
              "      <td>Express</td>\n",
              "      <td>Yes</td>\n",
              "      <td>Yes</td>\n",
              "      <td>2</td>\n",
              "      <td>Cash</td>\n",
              "      <td>Fortnightly</td>\n",
              "    </tr>\n",
              "    <tr>\n",
              "      <th>2</th>\n",
              "      <td>3</td>\n",
              "      <td>50</td>\n",
              "      <td>Male</td>\n",
              "      <td>Jeans</td>\n",
              "      <td>Clothing</td>\n",
              "      <td>73</td>\n",
              "      <td>Massachusetts</td>\n",
              "      <td>S</td>\n",
              "      <td>Maroon</td>\n",
              "      <td>Spring</td>\n",
              "      <td>3.1</td>\n",
              "      <td>Yes</td>\n",
              "      <td>Free Shipping</td>\n",
              "      <td>Yes</td>\n",
              "      <td>Yes</td>\n",
              "      <td>23</td>\n",
              "      <td>Credit Card</td>\n",
              "      <td>Weekly</td>\n",
              "    </tr>\n",
              "    <tr>\n",
              "      <th>3</th>\n",
              "      <td>4</td>\n",
              "      <td>21</td>\n",
              "      <td>Male</td>\n",
              "      <td>Sandals</td>\n",
              "      <td>Footwear</td>\n",
              "      <td>90</td>\n",
              "      <td>Rhode Island</td>\n",
              "      <td>M</td>\n",
              "      <td>Maroon</td>\n",
              "      <td>Spring</td>\n",
              "      <td>3.5</td>\n",
              "      <td>Yes</td>\n",
              "      <td>Next Day Air</td>\n",
              "      <td>Yes</td>\n",
              "      <td>Yes</td>\n",
              "      <td>49</td>\n",
              "      <td>PayPal</td>\n",
              "      <td>Weekly</td>\n",
              "    </tr>\n",
              "    <tr>\n",
              "      <th>4</th>\n",
              "      <td>5</td>\n",
              "      <td>45</td>\n",
              "      <td>Male</td>\n",
              "      <td>Blouse</td>\n",
              "      <td>Clothing</td>\n",
              "      <td>49</td>\n",
              "      <td>Oregon</td>\n",
              "      <td>M</td>\n",
              "      <td>Turquoise</td>\n",
              "      <td>Spring</td>\n",
              "      <td>2.7</td>\n",
              "      <td>Yes</td>\n",
              "      <td>Free Shipping</td>\n",
              "      <td>Yes</td>\n",
              "      <td>Yes</td>\n",
              "      <td>31</td>\n",
              "      <td>PayPal</td>\n",
              "      <td>Annually</td>\n",
              "    </tr>\n",
              "    <tr>\n",
              "      <th>...</th>\n",
              "      <td>...</td>\n",
              "      <td>...</td>\n",
              "      <td>...</td>\n",
              "      <td>...</td>\n",
              "      <td>...</td>\n",
              "      <td>...</td>\n",
              "      <td>...</td>\n",
              "      <td>...</td>\n",
              "      <td>...</td>\n",
              "      <td>...</td>\n",
              "      <td>...</td>\n",
              "      <td>...</td>\n",
              "      <td>...</td>\n",
              "      <td>...</td>\n",
              "      <td>...</td>\n",
              "      <td>...</td>\n",
              "      <td>...</td>\n",
              "      <td>...</td>\n",
              "    </tr>\n",
              "    <tr>\n",
              "      <th>3895</th>\n",
              "      <td>3896</td>\n",
              "      <td>40</td>\n",
              "      <td>Female</td>\n",
              "      <td>Hoodie</td>\n",
              "      <td>Clothing</td>\n",
              "      <td>28</td>\n",
              "      <td>Virginia</td>\n",
              "      <td>L</td>\n",
              "      <td>Turquoise</td>\n",
              "      <td>Summer</td>\n",
              "      <td>4.2</td>\n",
              "      <td>No</td>\n",
              "      <td>2-Day Shipping</td>\n",
              "      <td>No</td>\n",
              "      <td>No</td>\n",
              "      <td>32</td>\n",
              "      <td>Venmo</td>\n",
              "      <td>Weekly</td>\n",
              "    </tr>\n",
              "    <tr>\n",
              "      <th>3896</th>\n",
              "      <td>3897</td>\n",
              "      <td>52</td>\n",
              "      <td>Female</td>\n",
              "      <td>Backpack</td>\n",
              "      <td>Accessories</td>\n",
              "      <td>49</td>\n",
              "      <td>Iowa</td>\n",
              "      <td>L</td>\n",
              "      <td>White</td>\n",
              "      <td>Spring</td>\n",
              "      <td>4.5</td>\n",
              "      <td>No</td>\n",
              "      <td>Store Pickup</td>\n",
              "      <td>No</td>\n",
              "      <td>No</td>\n",
              "      <td>41</td>\n",
              "      <td>Bank Transfer</td>\n",
              "      <td>Bi-Weekly</td>\n",
              "    </tr>\n",
              "    <tr>\n",
              "      <th>3897</th>\n",
              "      <td>3898</td>\n",
              "      <td>46</td>\n",
              "      <td>Female</td>\n",
              "      <td>Belt</td>\n",
              "      <td>Accessories</td>\n",
              "      <td>33</td>\n",
              "      <td>New Jersey</td>\n",
              "      <td>L</td>\n",
              "      <td>Green</td>\n",
              "      <td>Spring</td>\n",
              "      <td>2.9</td>\n",
              "      <td>No</td>\n",
              "      <td>Standard</td>\n",
              "      <td>No</td>\n",
              "      <td>No</td>\n",
              "      <td>24</td>\n",
              "      <td>Venmo</td>\n",
              "      <td>Quarterly</td>\n",
              "    </tr>\n",
              "    <tr>\n",
              "      <th>3898</th>\n",
              "      <td>3899</td>\n",
              "      <td>44</td>\n",
              "      <td>Female</td>\n",
              "      <td>Shoes</td>\n",
              "      <td>Footwear</td>\n",
              "      <td>77</td>\n",
              "      <td>Minnesota</td>\n",
              "      <td>S</td>\n",
              "      <td>Brown</td>\n",
              "      <td>Summer</td>\n",
              "      <td>3.8</td>\n",
              "      <td>No</td>\n",
              "      <td>Express</td>\n",
              "      <td>No</td>\n",
              "      <td>No</td>\n",
              "      <td>24</td>\n",
              "      <td>Venmo</td>\n",
              "      <td>Weekly</td>\n",
              "    </tr>\n",
              "    <tr>\n",
              "      <th>3899</th>\n",
              "      <td>3900</td>\n",
              "      <td>52</td>\n",
              "      <td>Female</td>\n",
              "      <td>Handbag</td>\n",
              "      <td>Accessories</td>\n",
              "      <td>81</td>\n",
              "      <td>California</td>\n",
              "      <td>M</td>\n",
              "      <td>Beige</td>\n",
              "      <td>Spring</td>\n",
              "      <td>3.1</td>\n",
              "      <td>No</td>\n",
              "      <td>Store Pickup</td>\n",
              "      <td>No</td>\n",
              "      <td>No</td>\n",
              "      <td>33</td>\n",
              "      <td>Venmo</td>\n",
              "      <td>Quarterly</td>\n",
              "    </tr>\n",
              "  </tbody>\n",
              "</table>\n",
              "<p>3900 rows × 18 columns</p>\n",
              "</div>"
            ],
            "text/plain": [
              "      Customer ID  Age  Gender Item Purchased     Category  \\\n",
              "0               1   55    Male         Blouse     Clothing   \n",
              "1               2   19    Male        Sweater     Clothing   \n",
              "2               3   50    Male          Jeans     Clothing   \n",
              "3               4   21    Male        Sandals     Footwear   \n",
              "4               5   45    Male         Blouse     Clothing   \n",
              "...           ...  ...     ...            ...          ...   \n",
              "3895         3896   40  Female         Hoodie     Clothing   \n",
              "3896         3897   52  Female       Backpack  Accessories   \n",
              "3897         3898   46  Female           Belt  Accessories   \n",
              "3898         3899   44  Female          Shoes     Footwear   \n",
              "3899         3900   52  Female        Handbag  Accessories   \n",
              "\n",
              "      Purchase Amount (USD)       Location Size      Color  Season  \\\n",
              "0                        53       Kentucky    L       Gray  Winter   \n",
              "1                        64          Maine    L     Maroon  Winter   \n",
              "2                        73  Massachusetts    S     Maroon  Spring   \n",
              "3                        90   Rhode Island    M     Maroon  Spring   \n",
              "4                        49         Oregon    M  Turquoise  Spring   \n",
              "...                     ...            ...  ...        ...     ...   \n",
              "3895                     28       Virginia    L  Turquoise  Summer   \n",
              "3896                     49           Iowa    L      White  Spring   \n",
              "3897                     33     New Jersey    L      Green  Spring   \n",
              "3898                     77      Minnesota    S      Brown  Summer   \n",
              "3899                     81     California    M      Beige  Spring   \n",
              "\n",
              "      Review Rating Subscription Status   Shipping Type Discount Applied  \\\n",
              "0               3.1                 Yes         Express              Yes   \n",
              "1               3.1                 Yes         Express              Yes   \n",
              "2               3.1                 Yes   Free Shipping              Yes   \n",
              "3               3.5                 Yes    Next Day Air              Yes   \n",
              "4               2.7                 Yes   Free Shipping              Yes   \n",
              "...             ...                 ...             ...              ...   \n",
              "3895            4.2                  No  2-Day Shipping               No   \n",
              "3896            4.5                  No    Store Pickup               No   \n",
              "3897            2.9                  No        Standard               No   \n",
              "3898            3.8                  No         Express               No   \n",
              "3899            3.1                  No    Store Pickup               No   \n",
              "\n",
              "     Promo Code Used  Previous Purchases Payment Method Frequency of Purchases  \n",
              "0                Yes                  14          Venmo            Fortnightly  \n",
              "1                Yes                   2           Cash            Fortnightly  \n",
              "2                Yes                  23    Credit Card                 Weekly  \n",
              "3                Yes                  49         PayPal                 Weekly  \n",
              "4                Yes                  31         PayPal               Annually  \n",
              "...              ...                 ...            ...                    ...  \n",
              "3895              No                  32          Venmo                 Weekly  \n",
              "3896              No                  41  Bank Transfer              Bi-Weekly  \n",
              "3897              No                  24          Venmo              Quarterly  \n",
              "3898              No                  24          Venmo                 Weekly  \n",
              "3899              No                  33          Venmo              Quarterly  \n",
              "\n",
              "[3900 rows x 18 columns]"
            ]
          },
          "execution_count": 92,
          "metadata": {},
          "output_type": "execute_result"
        }
      ],
      "source": [
        "data"
      ]
    },
    {
      "cell_type": "markdown",
      "id": "093ac026",
      "metadata": {
        "id": "093ac026"
      },
      "source": [
        "Data Tranformation"
      ]
    },
    {
      "cell_type": "code",
      "execution_count": null,
      "id": "4af16f10",
      "metadata": {
        "id": "4af16f10"
      },
      "outputs": [],
      "source": [
        "data['AgeGroup'] = pd.cut(data['Age'], bins=[0, 18, 35, 50, 100], labels=['0-18', '19-35', '36-50', '51+'])"
      ]
    },
    {
      "cell_type": "code",
      "execution_count": null,
      "id": "df1f0c69",
      "metadata": {
        "id": "df1f0c69"
      },
      "outputs": [],
      "source": [
        "rating_bins = [0, 2, 3, 4, 5]\n",
        "rating_labels = ['Very Low', 'Low', 'Medium', 'High']\n",
        "data['Review_Rating_Category'] = pd.cut(data['Review Rating'], bins=rating_bins, labels=rating_labels, include_lowest=True)"
      ]
    },
    {
      "cell_type": "markdown",
      "id": "c00a86fd",
      "metadata": {
        "id": "c00a86fd"
      },
      "source": [
        "Feature Encoding"
      ]
    },
    {
      "cell_type": "code",
      "execution_count": null,
      "id": "4f523b92",
      "metadata": {
        "id": "4f523b92"
      },
      "outputs": [],
      "source": [
        "cat_cols = [col for col in data.columns if data[col].dtype == 'object' or data[col].dtype == 'category']\n",
        "num_cols = [col for col in data.columns if data[col].dtype != 'object' and data[col].dtype == 'category']"
      ]
    },
    {
      "cell_type": "code",
      "execution_count": null,
      "id": "e4f7915b",
      "metadata": {
        "id": "e4f7915b",
        "outputId": "ff63eec7-6d44-43b8-992b-a50d17f4cc10"
      },
      "outputs": [
        {
          "data": {
            "text/plain": [
              "['Gender',\n",
              " 'Item Purchased',\n",
              " 'Category',\n",
              " 'Location',\n",
              " 'Size',\n",
              " 'Color',\n",
              " 'Season',\n",
              " 'Subscription Status',\n",
              " 'Shipping Type',\n",
              " 'Discount Applied',\n",
              " 'Promo Code Used',\n",
              " 'Payment Method',\n",
              " 'Frequency of Purchases',\n",
              " 'AgeGroup',\n",
              " 'Review_Rating_Category']"
            ]
          },
          "execution_count": 8,
          "metadata": {},
          "output_type": "execute_result"
        }
      ],
      "source": [
        "cat_cols"
      ]
    },
    {
      "cell_type": "code",
      "execution_count": null,
      "id": "da6f8775",
      "metadata": {
        "id": "da6f8775",
        "outputId": "eec496c3-828c-4d73-b47f-4906e4e05be7"
      },
      "outputs": [
        {
          "data": {
            "text/plain": [
              "['AgeGroup', 'Review_Rating_Category']"
            ]
          },
          "execution_count": 9,
          "metadata": {},
          "output_type": "execute_result"
        }
      ],
      "source": [
        "num_cols"
      ]
    },
    {
      "cell_type": "code",
      "execution_count": null,
      "id": "ea7a6f5e",
      "metadata": {
        "id": "ea7a6f5e"
      },
      "outputs": [],
      "source": [
        "def categorize_columns(df, cat_cols):\n",
        "    less_than_or_equal_10 = []\n",
        "    greater_than_10 = []\n",
        "\n",
        "    for col in cat_cols:\n",
        "        unique_values = df[col].nunique()\n",
        "        if unique_values <= 10:\n",
        "            less_than_or_equal_10.append(col)\n",
        "        else:\n",
        "            greater_than_10.append(col)\n",
        "    return less_than_or_equal_10, greater_than_10"
      ]
    },
    {
      "cell_type": "code",
      "execution_count": null,
      "id": "6918ca4f",
      "metadata": {
        "id": "6918ca4f"
      },
      "outputs": [],
      "source": [
        "less_than_or_equal_10, greater_than_10 = categorize_columns(data, cat_cols)"
      ]
    },
    {
      "cell_type": "code",
      "execution_count": null,
      "id": "ec30cde3",
      "metadata": {
        "id": "ec30cde3",
        "outputId": "93081381-e89d-475e-dd28-99ac93dfd99d"
      },
      "outputs": [
        {
          "data": {
            "text/plain": [
              "['Gender',\n",
              " 'Category',\n",
              " 'Size',\n",
              " 'Season',\n",
              " 'Subscription Status',\n",
              " 'Shipping Type',\n",
              " 'Discount Applied',\n",
              " 'Promo Code Used',\n",
              " 'Payment Method',\n",
              " 'Frequency of Purchases',\n",
              " 'AgeGroup',\n",
              " 'Review_Rating_Category']"
            ]
          },
          "execution_count": 12,
          "metadata": {},
          "output_type": "execute_result"
        }
      ],
      "source": [
        "less_than_or_equal_10"
      ]
    },
    {
      "cell_type": "code",
      "execution_count": null,
      "id": "487a04fb",
      "metadata": {
        "id": "487a04fb",
        "outputId": "f7c1d6f4-7b37-4cba-da39-46ec7f76f6e8"
      },
      "outputs": [
        {
          "data": {
            "text/plain": [
              "['Item Purchased', 'Location', 'Color']"
            ]
          },
          "execution_count": 13,
          "metadata": {},
          "output_type": "execute_result"
        }
      ],
      "source": [
        "greater_than_10"
      ]
    },
    {
      "cell_type": "code",
      "execution_count": null,
      "id": "41c4b401",
      "metadata": {
        "id": "41c4b401"
      },
      "outputs": [],
      "source": [
        "from sklearn.preprocessing import LabelEncoder"
      ]
    },
    {
      "cell_type": "code",
      "execution_count": null,
      "id": "fb22c67f",
      "metadata": {
        "id": "fb22c67f"
      },
      "outputs": [],
      "source": [
        "def categorize_columns(df, cat_cols):\n",
        "    less_than_or_equal_10 = []\n",
        "    greater_than_10 = []\n",
        "\n",
        "    for col in cat_cols:\n",
        "        unique_values = df[col].nunique()\n",
        "        if unique_values <= 10:\n",
        "            less_than_or_equal_10.append(col)\n",
        "        else:\n",
        "            greater_than_10.append(col)\n",
        "    return less_than_or_equal_10, greater_than_10\n",
        "\n",
        "cat_cols = [col for col in data.columns if data[col].dtype == 'object' or data[col].dtype == 'category']\n",
        "less_than_or_equal_10, greater_than_10 = categorize_columns(data, cat_cols)"
      ]
    },
    {
      "cell_type": "code",
      "execution_count": null,
      "id": "2f85209b",
      "metadata": {
        "id": "2f85209b"
      },
      "outputs": [],
      "source": [
        "le = LabelEncoder()\n",
        "for col in less_than_or_equal_10:\n",
        "    data[col] = le.fit_transform(data[col])"
      ]
    },
    {
      "cell_type": "code",
      "execution_count": null,
      "id": "26bfdc52",
      "metadata": {
        "id": "26bfdc52"
      },
      "outputs": [],
      "source": [
        "def target_guided_encoding(i_col, t_col):\n",
        "    i_col_index = data.groupby([i_col])[t_col].mean().sort_values().index\n",
        "    i_col_dict = {key: index for index, key in enumerate(i_col_index, 0)}\n",
        "    data[i_col] = data[i_col].map(i_col_dict)\n",
        "\n",
        "for col in greater_than_10:\n",
        "    target_guided_encoding(col, 'Subscription Status')"
      ]
    },
    {
      "cell_type": "markdown",
      "id": "58669a71",
      "metadata": {
        "id": "58669a71"
      },
      "source": [
        "Feature Extraction"
      ]
    },
    {
      "cell_type": "code",
      "execution_count": null,
      "id": "b38abf4d",
      "metadata": {
        "id": "b38abf4d"
      },
      "outputs": [],
      "source": [
        "from sklearn.feature_selection import mutual_info_classif"
      ]
    },
    {
      "cell_type": "code",
      "execution_count": null,
      "id": "8031b007",
      "metadata": {
        "id": "8031b007"
      },
      "outputs": [],
      "source": [
        "X = data.drop(['Subscription Status'], axis=1)\n",
        "y = data['Subscription Status']"
      ]
    },
    {
      "cell_type": "code",
      "execution_count": null,
      "id": "1be42d6b",
      "metadata": {
        "id": "1be42d6b",
        "outputId": "036a0af5-0c9a-4ce1-9747-c940e971969f"
      },
      "outputs": [
        {
          "data": {
            "text/plain": [
              "array([0.58281442, 0.01703394, 0.13994477, 0.00397048, 0.0047403 ,\n",
              "       0.00816951, 0.00858817, 0.        , 0.00194129, 0.        ,\n",
              "       0.        , 0.        , 0.29801697, 0.30870989, 0.        ,\n",
              "       0.        , 0.01198529, 0.00660877, 0.        ])"
            ]
          },
          "execution_count": 58,
          "metadata": {},
          "output_type": "execute_result"
        }
      ],
      "source": [
        "mi = mutual_info_classif(X, y)\n",
        "mi"
      ]
    },
    {
      "cell_type": "code",
      "execution_count": null,
      "id": "9a8b2ef3",
      "metadata": {
        "id": "9a8b2ef3"
      },
      "outputs": [],
      "source": [
        "mi_df = pd.DataFrame(mi, index=X.columns, columns=['Importance'])\n",
        "zero_importance_features = mi_df[mi_df['Importance'] == 0].index.tolist()"
      ]
    },
    {
      "cell_type": "code",
      "execution_count": null,
      "id": "fb08bbb0",
      "metadata": {
        "id": "fb08bbb0",
        "outputId": "37101680-ed04-4c03-d783-fb15910bd5eb"
      },
      "outputs": [
        {
          "data": {
            "text/html": [
              "<div>\n",
              "<style scoped>\n",
              "    .dataframe tbody tr th:only-of-type {\n",
              "        vertical-align: middle;\n",
              "    }\n",
              "\n",
              "    .dataframe tbody tr th {\n",
              "        vertical-align: top;\n",
              "    }\n",
              "\n",
              "    .dataframe thead th {\n",
              "        text-align: right;\n",
              "    }\n",
              "</style>\n",
              "<table border=\"1\" class=\"dataframe\">\n",
              "  <thead>\n",
              "    <tr style=\"text-align: right;\">\n",
              "      <th></th>\n",
              "      <th>Importance</th>\n",
              "    </tr>\n",
              "  </thead>\n",
              "  <tbody>\n",
              "    <tr>\n",
              "      <th>Customer ID</th>\n",
              "      <td>0.582814</td>\n",
              "    </tr>\n",
              "    <tr>\n",
              "      <th>Age</th>\n",
              "      <td>0.017034</td>\n",
              "    </tr>\n",
              "    <tr>\n",
              "      <th>Gender</th>\n",
              "      <td>0.139945</td>\n",
              "    </tr>\n",
              "    <tr>\n",
              "      <th>Item Purchased</th>\n",
              "      <td>0.003970</td>\n",
              "    </tr>\n",
              "    <tr>\n",
              "      <th>Category</th>\n",
              "      <td>0.004740</td>\n",
              "    </tr>\n",
              "    <tr>\n",
              "      <th>Purchase Amount (USD)</th>\n",
              "      <td>0.008170</td>\n",
              "    </tr>\n",
              "    <tr>\n",
              "      <th>Location</th>\n",
              "      <td>0.008588</td>\n",
              "    </tr>\n",
              "    <tr>\n",
              "      <th>Size</th>\n",
              "      <td>0.000000</td>\n",
              "    </tr>\n",
              "    <tr>\n",
              "      <th>Color</th>\n",
              "      <td>0.001941</td>\n",
              "    </tr>\n",
              "    <tr>\n",
              "      <th>Season</th>\n",
              "      <td>0.000000</td>\n",
              "    </tr>\n",
              "    <tr>\n",
              "      <th>Review Rating</th>\n",
              "      <td>0.000000</td>\n",
              "    </tr>\n",
              "    <tr>\n",
              "      <th>Shipping Type</th>\n",
              "      <td>0.000000</td>\n",
              "    </tr>\n",
              "    <tr>\n",
              "      <th>Discount Applied</th>\n",
              "      <td>0.298017</td>\n",
              "    </tr>\n",
              "    <tr>\n",
              "      <th>Promo Code Used</th>\n",
              "      <td>0.308710</td>\n",
              "    </tr>\n",
              "    <tr>\n",
              "      <th>Previous Purchases</th>\n",
              "      <td>0.000000</td>\n",
              "    </tr>\n",
              "    <tr>\n",
              "      <th>Payment Method</th>\n",
              "      <td>0.000000</td>\n",
              "    </tr>\n",
              "    <tr>\n",
              "      <th>Frequency of Purchases</th>\n",
              "      <td>0.011985</td>\n",
              "    </tr>\n",
              "    <tr>\n",
              "      <th>AgeGroup</th>\n",
              "      <td>0.006609</td>\n",
              "    </tr>\n",
              "    <tr>\n",
              "      <th>Review_Rating_Category</th>\n",
              "      <td>0.000000</td>\n",
              "    </tr>\n",
              "  </tbody>\n",
              "</table>\n",
              "</div>"
            ],
            "text/plain": [
              "                        Importance\n",
              "Customer ID               0.582814\n",
              "Age                       0.017034\n",
              "Gender                    0.139945\n",
              "Item Purchased            0.003970\n",
              "Category                  0.004740\n",
              "Purchase Amount (USD)     0.008170\n",
              "Location                  0.008588\n",
              "Size                      0.000000\n",
              "Color                     0.001941\n",
              "Season                    0.000000\n",
              "Review Rating             0.000000\n",
              "Shipping Type             0.000000\n",
              "Discount Applied          0.298017\n",
              "Promo Code Used           0.308710\n",
              "Previous Purchases        0.000000\n",
              "Payment Method            0.000000\n",
              "Frequency of Purchases    0.011985\n",
              "AgeGroup                  0.006609\n",
              "Review_Rating_Category    0.000000"
            ]
          },
          "execution_count": 61,
          "metadata": {},
          "output_type": "execute_result"
        }
      ],
      "source": [
        "mi_df"
      ]
    },
    {
      "cell_type": "code",
      "execution_count": null,
      "id": "68791d42",
      "metadata": {
        "id": "68791d42"
      },
      "outputs": [],
      "source": [
        "data.drop(columns=zero_importance_features, inplace=True)"
      ]
    },
    {
      "cell_type": "code",
      "execution_count": null,
      "id": "dd656985",
      "metadata": {
        "id": "dd656985",
        "outputId": "5cd43eed-0502-4cd3-de4f-5534dc8d443f"
      },
      "outputs": [
        {
          "data": {
            "text/html": [
              "<div>\n",
              "<style scoped>\n",
              "    .dataframe tbody tr th:only-of-type {\n",
              "        vertical-align: middle;\n",
              "    }\n",
              "\n",
              "    .dataframe tbody tr th {\n",
              "        vertical-align: top;\n",
              "    }\n",
              "\n",
              "    .dataframe thead th {\n",
              "        text-align: right;\n",
              "    }\n",
              "</style>\n",
              "<table border=\"1\" class=\"dataframe\">\n",
              "  <thead>\n",
              "    <tr style=\"text-align: right;\">\n",
              "      <th></th>\n",
              "      <th>Customer ID</th>\n",
              "      <th>Age</th>\n",
              "      <th>Gender</th>\n",
              "      <th>Item Purchased</th>\n",
              "      <th>Category</th>\n",
              "      <th>Purchase Amount (USD)</th>\n",
              "      <th>Location</th>\n",
              "      <th>Color</th>\n",
              "      <th>Subscription Status</th>\n",
              "      <th>Discount Applied</th>\n",
              "      <th>Promo Code Used</th>\n",
              "      <th>Frequency of Purchases</th>\n",
              "      <th>AgeGroup</th>\n",
              "    </tr>\n",
              "  </thead>\n",
              "  <tbody>\n",
              "    <tr>\n",
              "      <th>0</th>\n",
              "      <td>1</td>\n",
              "      <td>55</td>\n",
              "      <td>1</td>\n",
              "      <td>0</td>\n",
              "      <td>0</td>\n",
              "      <td>53</td>\n",
              "      <td>44</td>\n",
              "      <td>11</td>\n",
              "      <td>1</td>\n",
              "      <td>1</td>\n",
              "      <td>1</td>\n",
              "      <td>3</td>\n",
              "      <td>3</td>\n",
              "    </tr>\n",
              "    <tr>\n",
              "      <th>1</th>\n",
              "      <td>2</td>\n",
              "      <td>19</td>\n",
              "      <td>1</td>\n",
              "      <td>24</td>\n",
              "      <td>0</td>\n",
              "      <td>64</td>\n",
              "      <td>15</td>\n",
              "      <td>7</td>\n",
              "      <td>1</td>\n",
              "      <td>1</td>\n",
              "      <td>1</td>\n",
              "      <td>3</td>\n",
              "      <td>1</td>\n",
              "    </tr>\n",
              "    <tr>\n",
              "      <th>2</th>\n",
              "      <td>3</td>\n",
              "      <td>50</td>\n",
              "      <td>1</td>\n",
              "      <td>22</td>\n",
              "      <td>0</td>\n",
              "      <td>73</td>\n",
              "      <td>42</td>\n",
              "      <td>7</td>\n",
              "      <td>1</td>\n",
              "      <td>1</td>\n",
              "      <td>1</td>\n",
              "      <td>6</td>\n",
              "      <td>2</td>\n",
              "    </tr>\n",
              "    <tr>\n",
              "      <th>3</th>\n",
              "      <td>4</td>\n",
              "      <td>21</td>\n",
              "      <td>1</td>\n",
              "      <td>6</td>\n",
              "      <td>3</td>\n",
              "      <td>90</td>\n",
              "      <td>37</td>\n",
              "      <td>7</td>\n",
              "      <td>1</td>\n",
              "      <td>1</td>\n",
              "      <td>1</td>\n",
              "      <td>6</td>\n",
              "      <td>1</td>\n",
              "    </tr>\n",
              "    <tr>\n",
              "      <th>4</th>\n",
              "      <td>5</td>\n",
              "      <td>45</td>\n",
              "      <td>1</td>\n",
              "      <td>0</td>\n",
              "      <td>0</td>\n",
              "      <td>49</td>\n",
              "      <td>13</td>\n",
              "      <td>24</td>\n",
              "      <td>1</td>\n",
              "      <td>1</td>\n",
              "      <td>1</td>\n",
              "      <td>0</td>\n",
              "      <td>2</td>\n",
              "    </tr>\n",
              "    <tr>\n",
              "      <th>...</th>\n",
              "      <td>...</td>\n",
              "      <td>...</td>\n",
              "      <td>...</td>\n",
              "      <td>...</td>\n",
              "      <td>...</td>\n",
              "      <td>...</td>\n",
              "      <td>...</td>\n",
              "      <td>...</td>\n",
              "      <td>...</td>\n",
              "      <td>...</td>\n",
              "      <td>...</td>\n",
              "      <td>...</td>\n",
              "      <td>...</td>\n",
              "    </tr>\n",
              "    <tr>\n",
              "      <th>3895</th>\n",
              "      <td>3896</td>\n",
              "      <td>40</td>\n",
              "      <td>0</td>\n",
              "      <td>14</td>\n",
              "      <td>0</td>\n",
              "      <td>28</td>\n",
              "      <td>41</td>\n",
              "      <td>24</td>\n",
              "      <td>0</td>\n",
              "      <td>0</td>\n",
              "      <td>0</td>\n",
              "      <td>6</td>\n",
              "      <td>2</td>\n",
              "    </tr>\n",
              "    <tr>\n",
              "      <th>3896</th>\n",
              "      <td>3897</td>\n",
              "      <td>52</td>\n",
              "      <td>0</td>\n",
              "      <td>19</td>\n",
              "      <td>1</td>\n",
              "      <td>49</td>\n",
              "      <td>38</td>\n",
              "      <td>21</td>\n",
              "      <td>0</td>\n",
              "      <td>0</td>\n",
              "      <td>0</td>\n",
              "      <td>1</td>\n",
              "      <td>3</td>\n",
              "    </tr>\n",
              "    <tr>\n",
              "      <th>3897</th>\n",
              "      <td>3898</td>\n",
              "      <td>46</td>\n",
              "      <td>0</td>\n",
              "      <td>3</td>\n",
              "      <td>1</td>\n",
              "      <td>33</td>\n",
              "      <td>8</td>\n",
              "      <td>18</td>\n",
              "      <td>0</td>\n",
              "      <td>0</td>\n",
              "      <td>0</td>\n",
              "      <td>5</td>\n",
              "      <td>2</td>\n",
              "    </tr>\n",
              "    <tr>\n",
              "      <th>3898</th>\n",
              "      <td>3899</td>\n",
              "      <td>44</td>\n",
              "      <td>0</td>\n",
              "      <td>18</td>\n",
              "      <td>3</td>\n",
              "      <td>77</td>\n",
              "      <td>35</td>\n",
              "      <td>4</td>\n",
              "      <td>0</td>\n",
              "      <td>0</td>\n",
              "      <td>0</td>\n",
              "      <td>6</td>\n",
              "      <td>2</td>\n",
              "    </tr>\n",
              "    <tr>\n",
              "      <th>3899</th>\n",
              "      <td>3900</td>\n",
              "      <td>52</td>\n",
              "      <td>0</td>\n",
              "      <td>8</td>\n",
              "      <td>1</td>\n",
              "      <td>81</td>\n",
              "      <td>39</td>\n",
              "      <td>13</td>\n",
              "      <td>0</td>\n",
              "      <td>0</td>\n",
              "      <td>0</td>\n",
              "      <td>5</td>\n",
              "      <td>3</td>\n",
              "    </tr>\n",
              "  </tbody>\n",
              "</table>\n",
              "<p>3900 rows × 13 columns</p>\n",
              "</div>"
            ],
            "text/plain": [
              "      Customer ID  Age  Gender  Item Purchased  Category  \\\n",
              "0               1   55       1               0         0   \n",
              "1               2   19       1              24         0   \n",
              "2               3   50       1              22         0   \n",
              "3               4   21       1               6         3   \n",
              "4               5   45       1               0         0   \n",
              "...           ...  ...     ...             ...       ...   \n",
              "3895         3896   40       0              14         0   \n",
              "3896         3897   52       0              19         1   \n",
              "3897         3898   46       0               3         1   \n",
              "3898         3899   44       0              18         3   \n",
              "3899         3900   52       0               8         1   \n",
              "\n",
              "      Purchase Amount (USD)  Location  Color  Subscription Status  \\\n",
              "0                        53        44     11                    1   \n",
              "1                        64        15      7                    1   \n",
              "2                        73        42      7                    1   \n",
              "3                        90        37      7                    1   \n",
              "4                        49        13     24                    1   \n",
              "...                     ...       ...    ...                  ...   \n",
              "3895                     28        41     24                    0   \n",
              "3896                     49        38     21                    0   \n",
              "3897                     33         8     18                    0   \n",
              "3898                     77        35      4                    0   \n",
              "3899                     81        39     13                    0   \n",
              "\n",
              "      Discount Applied  Promo Code Used  Frequency of Purchases  AgeGroup  \n",
              "0                    1                1                       3         3  \n",
              "1                    1                1                       3         1  \n",
              "2                    1                1                       6         2  \n",
              "3                    1                1                       6         1  \n",
              "4                    1                1                       0         2  \n",
              "...                ...              ...                     ...       ...  \n",
              "3895                 0                0                       6         2  \n",
              "3896                 0                0                       1         3  \n",
              "3897                 0                0                       5         2  \n",
              "3898                 0                0                       6         2  \n",
              "3899                 0                0                       5         3  \n",
              "\n",
              "[3900 rows x 13 columns]"
            ]
          },
          "execution_count": 63,
          "metadata": {},
          "output_type": "execute_result"
        }
      ],
      "source": [
        "data"
      ]
    },
    {
      "cell_type": "code",
      "execution_count": null,
      "id": "311ae2bb",
      "metadata": {
        "id": "311ae2bb"
      },
      "outputs": [],
      "source": [
        "from sklearn.preprocessing import StandardScaler\n",
        "scaler = StandardScaler()\n",
        "X_scaled = scaler.fit_transform(X)"
      ]
    },
    {
      "cell_type": "code",
      "execution_count": null,
      "id": "b72612a7",
      "metadata": {
        "id": "b72612a7",
        "outputId": "c2686430-a925-420a-d247-a7b1d976de16"
      },
      "outputs": [
        {
          "data": {
            "text/plain": [
              "array([[-1.73160675,  0.71891344,  0.68599434, ...,  0.01257477,\n",
              "         1.11385805,  1.09417163],\n",
              "       [-1.73071852, -1.64862924,  0.68599434, ...,  0.01257477,\n",
              "        -1.16887784,  1.09417163],\n",
              "       [-1.72983029,  0.39008807,  0.68599434, ...,  1.51384863,\n",
              "        -0.02750989,  1.09417163],\n",
              "       ...,\n",
              "       [ 1.72983029,  0.12702777, -1.45773797, ...,  1.01342401,\n",
              "        -0.02750989, -0.03683005],\n",
              "       [ 1.73071852, -0.00450238, -1.45773797, ...,  1.51384863,\n",
              "        -0.02750989,  1.09417163],\n",
              "       [ 1.73160675,  0.52161822, -1.45773797, ...,  1.01342401,\n",
              "         1.11385805,  1.09417163]])"
            ]
          },
          "execution_count": 65,
          "metadata": {},
          "output_type": "execute_result"
        }
      ],
      "source": [
        "X_scaled"
      ]
    },
    {
      "cell_type": "markdown",
      "id": "6b8d181a",
      "metadata": {
        "id": "6b8d181a"
      },
      "source": [
        "# Machine Learning Models"
      ]
    },
    {
      "cell_type": "markdown",
      "id": "8febd5ac",
      "metadata": {
        "id": "8febd5ac"
      },
      "source": [
        "K-Nearest Neighbors (KNN) classifier"
      ]
    },
    {
      "cell_type": "code",
      "execution_count": null,
      "id": "8c103a87",
      "metadata": {
        "scrolled": true,
        "id": "8c103a87",
        "outputId": "765ac3b2-488a-427c-e106-3102765a70ad"
      },
      "outputs": [
        {
          "name": "stdout",
          "output_type": "stream",
          "text": [
            "Cross-Validation Accuracy Scores: [0.8525641  0.86538462 0.89423077 0.86217949 0.87660256]\n",
            "Mean CV Accuracy: 0.87\n",
            "Training Accuracy: 0.91\n",
            "Validation Accuracy: 0.86\n",
            "Test Accuracy: 0.86\n"
          ]
        }
      ],
      "source": [
        "from sklearn.model_selection import train_test_split, cross_val_score\n",
        "from sklearn.neighbors import KNeighborsClassifier\n",
        "from sklearn.metrics import accuracy_score\n",
        "from sklearn.preprocessing import StandardScaler\n",
        "\n",
        "scaler = StandardScaler()\n",
        "X_scaled = scaler.fit_transform(X)\n",
        "\n",
        "X_train_val, X_test, y_train_val, y_test = train_test_split(X_scaled, y, test_size=0.2, random_state=42)\n",
        "X_train, X_val, y_train, y_val = train_test_split(X_train_val, y_train_val, test_size=0.25, random_state=42)\n",
        "\n",
        "knn_model = KNeighborsClassifier()\n",
        "\n",
        "cv_scores = cross_val_score(knn_model, X_train_val, y_train_val, cv=5)\n",
        "print(f\"Cross-Validation Accuracy Scores: {cv_scores}\")\n",
        "print(f\"Mean CV Accuracy: {cv_scores.mean():.2f}\")\n",
        "\n",
        "knn_model.fit(X_train, y_train)\n",
        "\n",
        "y_train_pred = knn_model.predict(X_train)\n",
        "train_accuracy = accuracy_score(y_train, y_train_pred)\n",
        "print(f\"Training Accuracy: {train_accuracy:.2f}\")\n",
        "\n",
        "y_val_pred = knn_model.predict(X_val)\n",
        "val_accuracy = accuracy_score(y_val, y_val_pred)\n",
        "print(f\"Validation Accuracy: {val_accuracy:.2f}\")\n",
        "\n",
        "y_test_pred = knn_model.predict(X_test)\n",
        "test_accuracy = accuracy_score(y_test, y_test_pred)\n",
        "print(f\"Test Accuracy: {test_accuracy:.2f}\")\n"
      ]
    },
    {
      "cell_type": "code",
      "execution_count": null,
      "id": "fce0d665",
      "metadata": {
        "id": "fce0d665",
        "outputId": "7796b1f9-07a1-459a-9c27-9b55c3924ab1"
      },
      "outputs": [
        {
          "name": "stdout",
          "output_type": "stream",
          "text": [
            "\n",
            "Classification Report for Training Data:\n",
            "              precision    recall  f1-score   support\n",
            "\n",
            "           0       0.96      0.91      0.94      1725\n",
            "           1       0.78      0.91      0.84       615\n",
            "\n",
            "    accuracy                           0.91      2340\n",
            "   macro avg       0.87      0.91      0.89      2340\n",
            "weighted avg       0.92      0.91      0.91      2340\n",
            "\n",
            "\n",
            "Classification Report for Validation Data:\n",
            "              precision    recall  f1-score   support\n",
            "\n",
            "           0       0.91      0.90      0.91       564\n",
            "           1       0.75      0.76      0.76       216\n",
            "\n",
            "    accuracy                           0.86       780\n",
            "   macro avg       0.83      0.83      0.83       780\n",
            "weighted avg       0.86      0.86      0.86       780\n",
            "\n",
            "\n",
            "Classification Report for Test Data:\n",
            "              precision    recall  f1-score   support\n",
            "\n",
            "           0       0.92      0.87      0.90       558\n",
            "           1       0.72      0.81      0.76       222\n",
            "\n",
            "    accuracy                           0.86       780\n",
            "   macro avg       0.82      0.84      0.83       780\n",
            "weighted avg       0.86      0.86      0.86       780\n",
            "\n"
          ]
        }
      ],
      "source": [
        "print(\"\\nClassification Report for Training Data:\")\n",
        "print(classification_report(y_train, y_train_pred))\n",
        "\n",
        "print(\"\\nClassification Report for Validation Data:\")\n",
        "print(classification_report(y_val, y_val_pred))\n",
        "\n",
        "print(\"\\nClassification Report for Test Data:\")\n",
        "print(classification_report(y_test, y_test_pred))"
      ]
    },
    {
      "cell_type": "markdown",
      "id": "7ecb35a6",
      "metadata": {
        "id": "7ecb35a6"
      },
      "source": [
        "Gausian Naive"
      ]
    },
    {
      "cell_type": "code",
      "execution_count": null,
      "id": "605d014d",
      "metadata": {
        "id": "605d014d"
      },
      "outputs": [],
      "source": [
        "from sklearn.naive_bayes import GaussianNB\n",
        "from sklearn.metrics import accuracy_score, classification_report"
      ]
    },
    {
      "cell_type": "code",
      "execution_count": null,
      "id": "e775bce8",
      "metadata": {
        "id": "e775bce8",
        "outputId": "ef7405a5-d0cd-444f-c572-18db11ccd714"
      },
      "outputs": [
        {
          "name": "stdout",
          "output_type": "stream",
          "text": [
            "Cross-Validation Accuracy Scores: [0.83814103 0.83814103 0.85737179 0.83814103 0.84615385]\n",
            "Mean CV Accuracy: 0.84\n",
            "Training Accuracy: 0.84\n",
            "Validation Accuracy: 0.86\n",
            "Test Accuracy: 0.83\n"
          ]
        }
      ],
      "source": [
        "gnb_model = GaussianNB()\n",
        "\n",
        "cv_scores = cross_val_score(gnb_model, X_train_val, y_train_val, cv=5)\n",
        "print(f\"Cross-Validation Accuracy Scores: {cv_scores}\")\n",
        "print(f\"Mean CV Accuracy: {cv_scores.mean():.2f}\")\n",
        "\n",
        "gnb_model.fit(X_train, y_train)\n",
        "\n",
        "y_train_pred = gnb_model.predict(X_train)\n",
        "train_accuracy = accuracy_score(y_train, y_train_pred)\n",
        "print(f\"Training Accuracy: {train_accuracy:.2f}\")\n",
        "\n",
        "y_val_pred = gnb_model.predict(X_val)\n",
        "val_accuracy = accuracy_score(y_val, y_val_pred)\n",
        "print(f\"Validation Accuracy: {val_accuracy:.2f}\")\n",
        "\n",
        "y_test_pred = gnb_model.predict(X_test)\n",
        "test_accuracy = accuracy_score(y_test, y_test_pred)\n",
        "print(f\"Test Accuracy: {test_accuracy:.2f}\")\n"
      ]
    },
    {
      "cell_type": "code",
      "execution_count": null,
      "id": "4e399776",
      "metadata": {
        "id": "4e399776",
        "outputId": "39df6ad9-ef1f-4197-f9af-23d1c63ca532"
      },
      "outputs": [
        {
          "name": "stdout",
          "output_type": "stream",
          "text": [
            "\n",
            "Classification Report for Training Data:\n",
            "              precision    recall  f1-score   support\n",
            "\n",
            "           0       1.00      0.78      0.88      1725\n",
            "           1       0.62      1.00      0.76       615\n",
            "\n",
            "    accuracy                           0.84      2340\n",
            "   macro avg       0.81      0.89      0.82      2340\n",
            "weighted avg       0.90      0.84      0.85      2340\n",
            "\n",
            "\n",
            "Classification Report for Validation Data:\n",
            "              precision    recall  f1-score   support\n",
            "\n",
            "           0       1.00      0.81      0.89       564\n",
            "           1       0.67      1.00      0.80       216\n",
            "\n",
            "    accuracy                           0.86       780\n",
            "   macro avg       0.83      0.90      0.85       780\n",
            "weighted avg       0.91      0.86      0.87       780\n",
            "\n",
            "\n",
            "Classification Report for Test Data:\n",
            "              precision    recall  f1-score   support\n",
            "\n",
            "           0       1.00      0.76      0.86       558\n",
            "           1       0.62      1.00      0.77       222\n",
            "\n",
            "    accuracy                           0.83       780\n",
            "   macro avg       0.81      0.88      0.81       780\n",
            "weighted avg       0.89      0.83      0.83       780\n",
            "\n"
          ]
        }
      ],
      "source": [
        "print(\"\\nClassification Report for Training Data:\")\n",
        "print(classification_report(y_train, y_train_pred))\n",
        "\n",
        "print(\"\\nClassification Report for Validation Data:\")\n",
        "print(classification_report(y_val, y_val_pred))\n",
        "\n",
        "print(\"\\nClassification Report for Test Data:\")\n",
        "print(classification_report(y_test, y_test_pred))"
      ]
    },
    {
      "cell_type": "markdown",
      "id": "5f8183a9",
      "metadata": {
        "id": "5f8183a9"
      },
      "source": [
        "Logistic Regression"
      ]
    },
    {
      "cell_type": "code",
      "execution_count": null,
      "id": "aaa76e61",
      "metadata": {
        "scrolled": false,
        "id": "aaa76e61",
        "outputId": "022d932c-54c7-41d0-ee01-670f4f2dafbd"
      },
      "outputs": [
        {
          "name": "stdout",
          "output_type": "stream",
          "text": [
            "Cross-Validation Scores: [0.99679487 0.99358974 0.99679487 0.99519231 0.99198718]\n",
            "Mean CV Score: 0.99\n",
            "Training Set Accuracy: 1.00\n",
            "Validation Set Accuracy: 1.00\n",
            "Test Set Accuracy: 1.00\n"
          ]
        }
      ],
      "source": [
        "from sklearn.model_selection import train_test_split, cross_val_score\n",
        "from sklearn.linear_model import LogisticRegression\n",
        "from sklearn.metrics import accuracy_score\n",
        "\n",
        "model = LogisticRegression()\n",
        "model.fit(X_train, y_train)\n",
        "\n",
        "scores = cross_val_score(model, X_train_val, y_train_val, cv=5)\n",
        "print(f\"Cross-Validation Scores: {scores}\")\n",
        "print(f\"Mean CV Score: {scores.mean():.2f}\")\n",
        "\n",
        "y_train_pred = model.predict(X_train)\n",
        "train_accuracy = accuracy_score(y_train, y_train_pred)\n",
        "print(f\"Training Set Accuracy: {train_accuracy:.2f}\")\n",
        "\n",
        "y_val_pred = model.predict(X_val)\n",
        "val_accuracy = accuracy_score(y_val, y_val_pred)\n",
        "print(f\"Validation Set Accuracy: {val_accuracy:.2f}\")\n",
        "\n",
        "y_test_pred = model.predict(X_test)\n",
        "test_accuracy = accuracy_score(y_test, y_test_pred)\n",
        "print(f\"Test Set Accuracy: {test_accuracy:.2f}\")"
      ]
    },
    {
      "cell_type": "code",
      "execution_count": null,
      "id": "3ec47e97",
      "metadata": {
        "id": "3ec47e97",
        "outputId": "1780037e-4089-4327-a1f1-1225e91215a2"
      },
      "outputs": [
        {
          "name": "stdout",
          "output_type": "stream",
          "text": [
            "\n",
            "Classification Report for Training Data:\n",
            "              precision    recall  f1-score   support\n",
            "\n",
            "           0       1.00      1.00      1.00      1725\n",
            "           1       1.00      1.00      1.00       615\n",
            "\n",
            "    accuracy                           1.00      2340\n",
            "   macro avg       1.00      1.00      1.00      2340\n",
            "weighted avg       1.00      1.00      1.00      2340\n",
            "\n",
            "\n",
            "Classification Report for Validation Data:\n",
            "              precision    recall  f1-score   support\n",
            "\n",
            "           0       0.99      1.00      1.00       564\n",
            "           1       1.00      0.99      0.99       216\n",
            "\n",
            "    accuracy                           1.00       780\n",
            "   macro avg       1.00      0.99      1.00       780\n",
            "weighted avg       1.00      1.00      1.00       780\n",
            "\n",
            "\n",
            "Classification Report for Test Data:\n",
            "              precision    recall  f1-score   support\n",
            "\n",
            "           0       1.00      1.00      1.00       558\n",
            "           1       1.00      0.99      0.99       222\n",
            "\n",
            "    accuracy                           1.00       780\n",
            "   macro avg       1.00      0.99      1.00       780\n",
            "weighted avg       1.00      1.00      1.00       780\n",
            "\n"
          ]
        }
      ],
      "source": [
        "print(\"\\nClassification Report for Training Data:\")\n",
        "print(classification_report(y_train, y_train_pred))\n",
        "\n",
        "print(\"\\nClassification Report for Validation Data:\")\n",
        "print(classification_report(y_val, y_val_pred))\n",
        "\n",
        "print(\"\\nClassification Report for Test Data:\")\n",
        "print(classification_report(y_test, y_test_pred))"
      ]
    },
    {
      "cell_type": "markdown",
      "id": "9877dd7d",
      "metadata": {
        "id": "9877dd7d"
      },
      "source": [
        "Reducing overfitting using PCA"
      ]
    },
    {
      "cell_type": "code",
      "execution_count": null,
      "id": "d9802eb5",
      "metadata": {
        "scrolled": false,
        "id": "d9802eb5",
        "outputId": "00de24ef-b519-4fe0-b3f4-eb297b1ea379"
      },
      "outputs": [
        {
          "name": "stdout",
          "output_type": "stream",
          "text": [
            "Training Set Accuracy: 0.98\n",
            "Validation Set Accuracy: 0.98\n",
            "Test Set Accuracy: 0.98\n",
            "Cross-Validation Scores: [0.97916667 0.97275641 0.98717949 0.98397436 0.96794872]\n",
            "Mean CV Score: 0.98\n"
          ]
        }
      ],
      "source": [
        "import numpy as np\n",
        "from sklearn.model_selection import train_test_split, cross_val_score\n",
        "from sklearn.decomposition import PCA\n",
        "from sklearn.linear_model import LogisticRegression\n",
        "from sklearn.metrics import accuracy_score, classification_report\n",
        "\n",
        "pca = PCA(n_components=0.70)\n",
        "X_train_pca = pca.fit_transform(X_train)\n",
        "X_val_pca = pca.transform(X_val)\n",
        "X_test_pca = pca.transform(X_test)\n",
        "\n",
        "model = LogisticRegression()\n",
        "model.fit(X_train_pca, y_train)\n",
        "\n",
        "y_train_pred = model.predict(X_train_pca)\n",
        "train_accuracy = accuracy_score(y_train, y_train_pred)\n",
        "print(f\"Training Set Accuracy: {train_accuracy:.2f}\")\n",
        "\n",
        "y_val_pred = model.predict(X_val_pca)\n",
        "val_accuracy = accuracy_score(y_val, y_val_pred)\n",
        "print(f\"Validation Set Accuracy: {val_accuracy:.2f}\")\n",
        "\n",
        "y_test_pred = model.predict(X_test_pca)\n",
        "test_accuracy = accuracy_score(y_test, y_test_pred)\n",
        "print(f\"Test Set Accuracy: {test_accuracy:.2f}\")\n",
        "\n",
        "X_train_val_pca = pca.transform(X_train_val)\n",
        "scores = cross_val_score(model, X_train_val_pca, y_train_val, cv=5)\n",
        "print(f\"Cross-Validation Scores: {scores}\")\n",
        "print(f\"Mean CV Score: {scores.mean():.2f}\")"
      ]
    },
    {
      "cell_type": "code",
      "execution_count": null,
      "id": "c97a09d3",
      "metadata": {
        "id": "c97a09d3",
        "outputId": "14efda45-9608-414e-9c97-db7a2c17adb0"
      },
      "outputs": [
        {
          "name": "stdout",
          "output_type": "stream",
          "text": [
            "\n",
            "Classification Report for Training Data:\n",
            "              precision    recall  f1-score   support\n",
            "\n",
            "           0       0.98      0.98      0.98      1725\n",
            "           1       0.96      0.96      0.96       615\n",
            "\n",
            "    accuracy                           0.98      2340\n",
            "   macro avg       0.97      0.97      0.97      2340\n",
            "weighted avg       0.98      0.98      0.98      2340\n",
            "\n",
            "\n",
            "Classification Report for Validation Data:\n",
            "              precision    recall  f1-score   support\n",
            "\n",
            "           0       0.99      0.99      0.99       564\n",
            "           1       0.97      0.97      0.97       216\n",
            "\n",
            "    accuracy                           0.98       780\n",
            "   macro avg       0.98      0.98      0.98       780\n",
            "weighted avg       0.98      0.98      0.98       780\n",
            "\n",
            "\n",
            "Classification Report for Test Data:\n",
            "              precision    recall  f1-score   support\n",
            "\n",
            "           0       0.99      0.99      0.99       558\n",
            "           1       0.97      0.97      0.97       222\n",
            "\n",
            "    accuracy                           0.98       780\n",
            "   macro avg       0.98      0.98      0.98       780\n",
            "weighted avg       0.98      0.98      0.98       780\n",
            "\n"
          ]
        }
      ],
      "source": [
        "print(\"\\nClassification Report for Training Data:\")\n",
        "print(classification_report(y_train, y_train_pred))\n",
        "\n",
        "print(\"\\nClassification Report for Validation Data:\")\n",
        "print(classification_report(y_val, y_val_pred))\n",
        "\n",
        "print(\"\\nClassification Report for Test Data:\")\n",
        "print(classification_report(y_test, y_test_pred))"
      ]
    },
    {
      "cell_type": "code",
      "execution_count": null,
      "id": "17be086b",
      "metadata": {
        "scrolled": false,
        "id": "17be086b",
        "outputId": "9e945112-20da-441f-9970-726194975774"
      },
      "outputs": [
        {
          "name": "stdout",
          "output_type": "stream",
          "text": [
            "Confusion Matrix for Training Data:\n",
            "[[1722    3]\n",
            " [   2  613]]\n",
            "Confusion Matrix for Validation Data:\n",
            "[[564   0]\n",
            " [  3 213]]\n"
          ]
        },
        {
          "data": {
            "image/png": "[encoded data removed]",
            "text/plain": [
              "<Figure size 800x600 with 1 Axes>"
            ]
          },
          "metadata": {},
          "output_type": "display_data"
        }
      ],
      "source": [
        "from sklearn.metrics import classification_report, confusion_matrix\n",
        "import matplotlib.pyplot as plt\n",
        "import seaborn as sns\n",
        "\n",
        "print(\"Confusion Matrix for Training Data:\")\n",
        "print(confusion_matrix(y_train, y_train_pred))\n",
        "print(\"Confusion Matrix for Validation Data:\")\n",
        "print(confusion_matrix(y_val, y_val_pred))\n",
        "\n",
        "def plot_confusion_matrix(cm, title):\n",
        "    plt.figure(figsize=(8, 6))\n",
        "    sns.heatmap(cm, annot=True, fmt='d', cmap='Blues', cbar=False)\n",
        "    plt.title(title)\n",
        "    plt.xlabel('Predicted Label')\n",
        "    plt.ylabel('True Label')\n",
        "    plt.show()\n",
        "\n",
        "cm_test = confusion_matrix(y_test, y_test_pred)\n",
        "plot_confusion_matrix(cm_test, \"Confusion Matrix for Test Data\")"
      ]
    },
    {
      "cell_type": "code",
      "execution_count": null,
      "id": "2a9d0918",
      "metadata": {
        "id": "2a9d0918",
        "outputId": "7a85f2a4-324b-4507-b2de-55c9450b1375"
      },
      "outputs": [
        {
          "data": {
            "image/png": "[encoded data removed]",
            "text/plain": [
              "<Figure size 1000x1500 with 3 Axes>"
            ]
          },
          "metadata": {},
          "output_type": "display_data"
        }
      ],
      "source": [
        "import matplotlib.pyplot as plt\n",
        "\n",
        "# Metrics for each model and dataset\n",
        "metrics_knn = {'Training': [0.96, 0.91, 0.94, 0.78, 0.91, 0.84, 0.91],\n",
        "               'Validation': [0.91, 0.90, 0.91, 0.75, 0.76, 0.76, 0.86],\n",
        "               'Test': [0.92, 0.87, 0.90, 0.72, 0.81, 0.76, 0.86]}\n",
        "\n",
        "metrics_gnb = {'Training': [1.00, 0.78, 0.88, 0.62, 1.00, 0.76, 0.84],\n",
        "               'Validation': [1.00, 0.81, 0.89, 0.67, 1.00, 0.80, 0.86],\n",
        "               'Test': [1.00, 0.76, 0.86, 0.62, 1.00, 0.77, 0.83]}\n",
        "\n",
        "metrics_logistic = {'Training': [0.98, 0.98, 0.98, 0.96, 0.96, 0.96, 0.98],\n",
        "                    'Validation': [0.99, 0.99, 0.99, 0.97, 0.97, 0.97, 0.98],\n",
        "                    'Test': [0.99, 0.99, 0.99, 0.97, 0.97, 0.97, 0.98]}\n",
        "\n",
        "# Metric labels\n",
        "metric_labels = ['Precision Class 0', 'Recall Class 0', 'F1 Class 0',\n",
        "                 'Precision Class 1', 'Recall Class 1', 'F1 Class 1', 'Accuracy']\n",
        "\n",
        "# Plot setup\n",
        "fig, axes = plt.subplots(nrows=3, ncols=1, figsize=(10, 15), sharex=True)\n",
        "\n",
        "# Titles for each subplot\n",
        "titles = ['K-Nearest Neighbors', 'Gaussian Naive Bayes', 'Logistic Regression']\n",
        "\n",
        "for ax, model_metrics, title in zip(axes, [metrics_knn, metrics_gnb, metrics_logistic], titles):\n",
        "    ax.plot(metric_labels, model_metrics['Training'], label='Training', marker='o')\n",
        "    ax.plot(metric_labels, model_metrics['Validation'], label='Validation', marker='o')\n",
        "    ax.plot(metric_labels, model_metrics['Test'], label='Test', marker='o')\n",
        "    ax.set_title(title)\n",
        "    ax.set_ylim(0.5, 1.05)  # Limiting y-axis for better visibility\n",
        "    ax.legend()\n",
        "    ax.grid(True)\n",
        "\n",
        "# Display the plot\n",
        "plt.tight_layout()\n",
        "plt.show()\n"
      ]
    },
    {
      "cell_type": "markdown",
      "id": "4655dd34",
      "metadata": {
        "id": "4655dd34"
      },
      "source": [
        "Logistic Regression appears to be the strongest model based on the provided metrics, showing high and stable scores across all datasets and both classes.\n",
        "While KNN also shows good and stable performance, it does not reach the peak performance of the Logistic Regression model.\n",
        "GNB seems to be the least reliable, with inconsistent scores that vary more widely across different evaluation metrics and datasets."
      ]
    },
    {
      "cell_type": "markdown",
      "id": "9157ed7e",
      "metadata": {
        "id": "9157ed7e"
      },
      "source": [
        "# RESULTS"
      ]
    },
    {
      "cell_type": "code",
      "execution_count": null,
      "id": "6a6aa3e9",
      "metadata": {
        "id": "6a6aa3e9",
        "outputId": "aa54c6b4-1edc-4d37-84dd-d87ca6752f89"
      },
      "outputs": [
        {
          "name": "stdout",
          "output_type": "stream",
          "text": [
            "KNN Model Permutation Importance:\n",
            "Customer ID 0.066 ± 0.008\n",
            "Location 0.012 ± 0.010\n",
            "Color    0.009 ± 0.007\n",
            "Frequency of Purchases 0.007 ± 0.005\n",
            "Size     0.006 ± 0.006\n",
            "Payment Method 0.006 ± 0.006\n",
            "Previous Purchases 0.005 ± 0.006\n",
            "Purchase Amount (USD) 0.003 ± 0.006\n",
            "Promo Code Used 0.003 ± 0.007\n",
            "Discount Applied 0.003 ± 0.007\n",
            "Season   0.002 ± 0.007\n",
            "Review Rating 0.002 ± 0.007\n",
            "Age      0.000 ± 0.007\n",
            "Gender   0.000 ± 0.001\n",
            "Shipping Type -0.002 ± 0.006\n",
            "Review_Rating_Category -0.002 ± 0.008\n",
            "AgeGroup -0.004 ± 0.005\n",
            "Item Purchased -0.004 ± 0.006\n",
            "Category -0.007 ± 0.005\n",
            "GNB Model Permutation Importance:\n",
            "Promo Code Used 0.082 ± 0.010\n",
            "Discount Applied 0.082 ± 0.010\n",
            "Gender   0.046 ± 0.012\n",
            "Customer ID 0.030 ± 0.011\n",
            "Size     0.000 ± 0.000\n",
            "Age      0.000 ± 0.000\n",
            "Item Purchased 0.000 ± 0.000\n",
            "Category 0.000 ± 0.000\n",
            "Purchase Amount (USD) 0.000 ± 0.000\n",
            "Location 0.000 ± 0.000\n",
            "Review_Rating_Category 0.000 ± 0.000\n",
            "Color    0.000 ± 0.000\n",
            "AgeGroup 0.000 ± 0.000\n",
            "Review Rating 0.000 ± 0.000\n",
            "Shipping Type 0.000 ± 0.000\n",
            "Previous Purchases 0.000 ± 0.000\n",
            "Payment Method 0.000 ± 0.000\n",
            "Frequency of Purchases 0.000 ± 0.000\n",
            "Season   0.000 ± 0.000\n"
          ]
        }
      ],
      "source": [
        "def calculate_permutation_importance(model, X, y, feature_names):\n",
        "    r = permutation_importance(model, X, y, n_repeats=30, random_state=42)\n",
        "    for i in r.importances_mean.argsort()[::-1]:\n",
        "        print(f\"{feature_names[i]:<8} \"\n",
        "              f\"{r.importances_mean[i]:.3f} \"\n",
        "              f\"± {r.importances_std[i]:.3f}\")\n",
        "\n",
        "feature_names = X.columns\n",
        "\n",
        "print(\"KNN Model Permutation Importance:\")\n",
        "calculate_permutation_importance(knn_model, X_val, y_val, feature_names)\n",
        "\n",
        "print(\"GNB Model Permutation Importance:\")\n",
        "calculate_permutation_importance(gnb_model, X_val, y_val, feature_names)\n"
      ]
    },
    {
      "cell_type": "markdown",
      "id": "1fa31f93",
      "metadata": {
        "id": "1fa31f93"
      },
      "source": [
        "The Logistic Regression model presents consistent accuracy across training, validation, and test sets. It demonstrates high performance that does not degrade from training to testing, suggesting good generalization without signs of overfitting."
      ]
    },
    {
      "cell_type": "markdown",
      "id": "a4b5373b",
      "metadata": {
        "id": "a4b5373b"
      },
      "source": [
        "Accuracy: A high accuracy across training, validation, and test sets suggests the model is good at predicting who will or will not subscribe.\n",
        "\n",
        "Precision: High precision for the subscribed class means that when the model predicts a customer will subscribe, it is correct most of the time.\n",
        "\n",
        "Recall: High recall for the subscribed class indicates the model is good at identifying all the customers who will subscribe."
      ]
    },
    {
      "cell_type": "code",
      "execution_count": null,
      "id": "511b8f30",
      "metadata": {
        "id": "511b8f30"
      },
      "outputs": [],
      "source": []
    }
  ],
  "metadata": {
    "kernelspec": {
      "display_name": "Python 3 (ipykernel)",
      "language": "python",
      "name": "python3"
    },
    "language_info": {
      "codemirror_mode": {
        "name": "ipython",
        "version": 3
      },
      "file_extension": ".py",
      "mimetype": "text/x-python",
      "name": "python",
      "nbconvert_exporter": "python",
      "pygments_lexer": "ipython3",
      "version": "3.11.4"
    },
    "colab": {
      "provenance": []
    }
  },
  "nbformat": 4,
  "nbformat_minor": 5
}